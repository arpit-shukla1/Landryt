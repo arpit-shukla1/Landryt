{
  "nbformat": 4,
  "nbformat_minor": 0,
  "metadata": {
    "colab": {
      "name": "ocr.ipynb",
      "provenance": []
    },
    "kernelspec": {
      "name": "python3",
      "display_name": "Python 3"
    }
  },
  "cells": [
    {
      "cell_type": "code",
      "metadata": {
        "id": "Uwy5_eAwHY1g",
        "colab_type": "code",
        "outputId": "02d33320-1e7f-448b-badb-73618560e091",
        "colab": {
          "base_uri": "https://localhost:8080/",
          "height": 802
        }
      },
      "source": [
        "!sudo apt install tesseract-ocr\n",
        "!pip install pytesseract"
      ],
      "execution_count": 2,
      "outputs": [
        {
          "output_type": "stream",
          "text": [
            "Reading package lists... Done\n",
            "Building dependency tree       \n",
            "Reading state information... Done\n",
            "The following additional packages will be installed:\n",
            "  tesseract-ocr-eng tesseract-ocr-osd\n",
            "The following NEW packages will be installed:\n",
            "  tesseract-ocr tesseract-ocr-eng tesseract-ocr-osd\n",
            "0 upgraded, 3 newly installed, 0 to remove and 25 not upgraded.\n",
            "Need to get 4,795 kB of archives.\n",
            "After this operation, 15.8 MB of additional disk space will be used.\n",
            "Get:1 http://archive.ubuntu.com/ubuntu bionic/universe amd64 tesseract-ocr-eng all 4.00~git24-0e00fe6-1.2 [1,588 kB]\n",
            "Get:2 http://archive.ubuntu.com/ubuntu bionic/universe amd64 tesseract-ocr-osd all 4.00~git24-0e00fe6-1.2 [2,989 kB]\n",
            "Get:3 http://archive.ubuntu.com/ubuntu bionic/universe amd64 tesseract-ocr amd64 4.00~git2288-10f4998a-2 [218 kB]\n",
            "Fetched 4,795 kB in 1s (4,314 kB/s)\n",
            "debconf: unable to initialize frontend: Dialog\n",
            "debconf: (No usable dialog-like program is installed, so the dialog based frontend cannot be used. at /usr/share/perl5/Debconf/FrontEnd/Dialog.pm line 76, <> line 3.)\n",
            "debconf: falling back to frontend: Readline\n",
            "debconf: unable to initialize frontend: Readline\n",
            "debconf: (This frontend requires a controlling tty.)\n",
            "debconf: falling back to frontend: Teletype\n",
            "dpkg-preconfigure: unable to re-open stdin: \n",
            "Selecting previously unselected package tesseract-ocr-eng.\n",
            "(Reading database ... 133872 files and directories currently installed.)\n",
            "Preparing to unpack .../tesseract-ocr-eng_4.00~git24-0e00fe6-1.2_all.deb ...\n",
            "Unpacking tesseract-ocr-eng (4.00~git24-0e00fe6-1.2) ...\n",
            "Selecting previously unselected package tesseract-ocr-osd.\n",
            "Preparing to unpack .../tesseract-ocr-osd_4.00~git24-0e00fe6-1.2_all.deb ...\n",
            "Unpacking tesseract-ocr-osd (4.00~git24-0e00fe6-1.2) ...\n",
            "Selecting previously unselected package tesseract-ocr.\n",
            "Preparing to unpack .../tesseract-ocr_4.00~git2288-10f4998a-2_amd64.deb ...\n",
            "Unpacking tesseract-ocr (4.00~git2288-10f4998a-2) ...\n",
            "Setting up tesseract-ocr-osd (4.00~git24-0e00fe6-1.2) ...\n",
            "Setting up tesseract-ocr-eng (4.00~git24-0e00fe6-1.2) ...\n",
            "Setting up tesseract-ocr (4.00~git2288-10f4998a-2) ...\n",
            "Processing triggers for man-db (2.8.3-2ubuntu0.1) ...\n",
            "Collecting pytesseract\n",
            "  Downloading https://files.pythonhosted.org/packages/3c/1d/2993a05adb253902a372d7886733ae7688615cf000c54fe3c075892cb5d4/pytesseract-0.3.3.tar.gz\n",
            "Requirement already satisfied: Pillow in /usr/local/lib/python3.6/dist-packages (from pytesseract) (7.0.0)\n",
            "Building wheels for collected packages: pytesseract\n",
            "  Building wheel for pytesseract (setup.py) ... \u001b[?25l\u001b[?25hdone\n",
            "  Created wheel for pytesseract: filename=pytesseract-0.3.3-py2.py3-none-any.whl size=13396 sha256=b37ca56f65999d0f189736eecb5bd0923d4e77a9349cfc1d810ddfbc75ab14c9\n",
            "  Stored in directory: /root/.cache/pip/wheels/82/1a/d0/a884540a5602305f5bb7ff44f05550be20453edce8fae69241\n",
            "Successfully built pytesseract\n",
            "Installing collected packages: pytesseract\n",
            "Successfully installed pytesseract-0.3.3\n"
          ],
          "name": "stdout"
        }
      ]
    },
    {
      "cell_type": "code",
      "metadata": {
        "id": "_APRl9wXEmEp",
        "colab_type": "code",
        "colab": {}
      },
      "source": [
        "#Extracting text from images using tessearct\n",
        "\n",
        "import os.path\n",
        "import json\n",
        "import io\n",
        "import sys\n",
        "import string\n",
        "import pytesseract\n",
        "import re\n",
        "import difflib\n",
        "import csv\n",
        "import dateutil.parser as dparser\n",
        "try:\n",
        "\tfrom PIL import Image, ImageEnhance, ImageFilter\n",
        "except:\n",
        "\tprint(\"Please Install PIL - For Python 3 Users the Library is now called Pillow\")\n",
        "\tsys.exit()\n",
        "path = sys.argv[1]"
      ],
      "execution_count": 0,
      "outputs": []
    },
    {
      "cell_type": "code",
      "metadata": {
        "id": "zCKIPhSZFV8z",
        "colab_type": "code",
        "outputId": "f1981da8-b843-44a6-eb4a-83b385ebcb7b",
        "colab": {
          "resources": {
            "http://localhost:8080/nbextensions/google.colab/files.js": {
              "data": "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",
              "ok": true,
              "headers": [
                [
                  "content-type",
                  "application/javascript"
                ]
              ],
              "status": 200,
              "status_text": ""
            }
          },
          "base_uri": "https://localhost:8080/",
          "height": 74
        }
      },
      "source": [
        "from google.colab import files\n",
        "uploaded = files.upload()"
      ],
      "execution_count": 4,
      "outputs": [
        {
          "output_type": "display_data",
          "data": {
            "text/html": [
              "\n",
              "     <input type=\"file\" id=\"files-bfe6bdba-3462-4676-8559-539945c74b65\" name=\"files[]\" multiple disabled />\n",
              "     <output id=\"result-bfe6bdba-3462-4676-8559-539945c74b65\">\n",
              "      Upload widget is only available when the cell has been executed in the\n",
              "      current browser session. Please rerun this cell to enable.\n",
              "      </output>\n",
              "      <script src=\"/nbextensions/google.colab/files.js\"></script> "
            ],
            "text/plain": [
              "<IPython.core.display.HTML object>"
            ]
          },
          "metadata": {
            "tags": []
          }
        },
        {
          "output_type": "stream",
          "text": [
            "Saving aadhar_or_pan_2.jpeg to aadhar_or_pan_2.jpeg\n"
          ],
          "name": "stdout"
        }
      ]
    },
    {
      "cell_type": "code",
      "metadata": {
        "id": "SlIpHku_FeQh",
        "colab_type": "code",
        "colab": {}
      },
      "source": [
        "img = Image.open('aadhar_or_pan_2.jpeg')\n",
        "img = img.convert('RGB')\n",
        "pix = img.load()"
      ],
      "execution_count": 0,
      "outputs": []
    },
    {
      "cell_type": "code",
      "metadata": {
        "id": "8At2y0p-HBII",
        "colab_type": "code",
        "outputId": "8987abc2-afa8-43cd-db0d-461fdf5d9a90",
        "colab": {
          "base_uri": "https://localhost:8080/",
          "height": 853
        }
      },
      "source": [
        "for y in range(img.size[1]):\n",
        "  for x in range(img.size[0]):\n",
        "    if pix[x, y][0] < 102 or pix[x, y][1] < 102 or pix[x, y][2] < 102:\n",
        "      pix[x, y] = (0, 0, 0, 255)\n",
        "    else:\n",
        "      pix[x, y] = (255, 255, 255, 255)\n",
        "\n",
        "img.save('temp.jpg')\n",
        "\n",
        "text_in = pytesseract.image_to_string(Image.open('temp.jpg'))\n",
        "text = list(filter(lambda x: ord(x)<128, text_in))  # TO BE CHECKED\n",
        "print(text_in)\n",
        "\n",
        "text_output = open('outputbase.txt', 'w')\n",
        "text_output.write(text_in)\n",
        "text_output.close()\n",
        "\n",
        "file = open('outputbase.txt', 'r')\n",
        "text = file.read()\n",
        "print(text)\n",
        "\n",
        "name = None\n",
        "fname = None\n",
        "dob = None\n",
        "pan = None\n",
        "nameline = []\n",
        "dobline = []\n",
        "panline = []\n",
        "text0 = []\n",
        "text1 = []\n",
        "text2 = []\n",
        "\n",
        "# Searching for PAN\n",
        "lines = text.split('\\n')\n",
        "for lin in lines:\n",
        "  s = lin.strip()\n",
        "  s = s.rstrip()\n",
        "  s = s.lstrip('_')\n",
        "  text1.append(s)\n",
        "\n",
        "text1 = list(filter(None, text1))\n",
        "print(text1)\n",
        "\n",
        "lineno=0 # to start from the first line of the text file.\n",
        "\n",
        "for wordline in text1:\n",
        "  xx = wordline.split('\\n')\n",
        "  if ([w for w in xx if re.search('(INCOME|TAX|GOW|GOVT|GOVERNMENT|OVERNMENT|VERNMENT|DEPARTMENT|EPARTMENT|PARTMENT|ARTMENT|INDIA|NDIA)$', w)]):\n",
        "    text1 = list(text1)\n",
        "    lineno = text1.index(wordline)\n",
        "    break\n",
        "print(text1)\n",
        "\n",
        "text0 = text1[lineno+1:]\n",
        "print(text0)\n",
        "\n",
        "def findword(textlist, wordstring):\n",
        "  lineno = -1\n",
        "  for wordline in textlist:\n",
        "      xx = wordline.split( )\n",
        "      if ([w for w in xx if re.search(wordstring, w)]):\n",
        "          lineno = textlist.index(wordline)\n",
        "          textlist = textlist[lineno+1:]\n",
        "          return textlist\n",
        "  return textlist\n",
        "\n",
        "try:\n",
        "\n",
        "    # Cleaning first names, better accuracy\n",
        "    name = text0[0]\n",
        "    name = name.rstrip()\n",
        "    name = name.lstrip()\n",
        "    name = name.replace(\"8\", \"B\")\n",
        "    name = name.replace(\"0\", \"D\")\n",
        "    name = name.replace(\"6\", \"G\")\n",
        "    name = name.replace(\"1\", \"I\")\n",
        "    name = re.sub('[^a-zA-Z] +', ' ', name)\n",
        "\n",
        "    # Cleaning Father's name\n",
        "    fname = text0[1]\n",
        "    fname = fname.rstrip()\n",
        "    fname = fname.lstrip()\n",
        "    fname = fname.replace(\"8\", \"S\")\n",
        "    fname = fname.replace(\"0\", \"O\")\n",
        "    fname = fname.replace(\"6\", \"G\")\n",
        "    fname = fname.replace(\"1\", \"I\")\n",
        "    fname = fname.replace(\"\\\"\",\"A\")\n",
        "    fname = re.sub('[^a-zA-Z] +', ' ', fname)\n",
        "\n",
        "    # Cleaning DOB\n",
        "    dob = text0[2]\n",
        "    dob = dob.rstrip()\n",
        "    dob = dob.lstrip()\n",
        "    dob = dob.replace('l', '/')\n",
        "    dob = dob.replace('L', '/')\n",
        "    dob = dob.replace('I', '/')\n",
        "    dob = dob.replace('i', '/')\n",
        "    dob = dob.replace('|', '/')\n",
        "    dob = dob.replace('\\\"', '/1')\n",
        "    dob = dob.replace(\" \", \"\")\n",
        "\n",
        "    # Cleaning PAN Card details\n",
        "    text0 = findword(text1, '(Pormanam|Number|umber|Account|ccount|count|Permanent|ermanent|manent|wumm)$')\n",
        "    panline = text0[0]\n",
        "    pan = panline.rstrip()\n",
        "    pan = pan.lstrip()\n",
        "    pan = pan.replace(\" \", \"\")\n",
        "    pan = pan.replace(\"\\\"\", \"\")\n",
        "    pan = pan.replace(\";\",  \"\")\n",
        "    pan = pan.replace(\"%\", \"L\")\n",
        "\n",
        "except:\n",
        "    pass    \n",
        "\n",
        "data = {}\n",
        "data['Name'] = name\n",
        "data['Father Name'] = fname\n",
        "data['Date of Birth'] = dob\n",
        "data['PAN'] = pan\n",
        "\n",
        "print(data)\n",
        "\n",
        "try:\n",
        "  to_unicode = unicode\n",
        "except NameError:\n",
        "  to_unicode = str\n",
        "\n",
        "with io.open('data.json', 'w', encoding='utf8') as outfile:\n",
        "  str_ = json.dumps(data,\n",
        "          indent=4, sort_keys=True,\n",
        "          separators=(',', ': '), ensure_ascii=False)\n",
        "  outfile.write(to_unicode(str_))\n",
        "\n",
        "with open('data.json') as data_file:\n",
        "  data_loaded = json.load(data_file)\n",
        "\n",
        "print(data == data_loaded)\n",
        "\n",
        "# Reading data back JSON(give correct path where JSON is stored)\n",
        "with open('data.json', 'r') as f:\n",
        "  ndata = json.load(f)\n",
        "\n",
        "print('\\t', \"|+++++++++++++++++++++++++++++++|\")\n",
        "print('\\t', '|', '\\t', ndata['Name'])\n",
        "print('\\t', \"|-------------------------------|\")\n",
        "print('\\t', '|', '\\t', ndata['Father Name'])\n",
        "print('\\t', \"|-------------------------------|\")\n",
        "print('\\t', '|', '\\t', ndata['Date of Birth'])\n",
        "print('\\t', \"|-------------------------------|\")\n",
        "print('\\t', '|', '\\t', ndata['PAN'])\n",
        "print('\\t', \"|+++++++++++++++++++++++++++++++|\")"
      ],
      "execution_count": 20,
      "outputs": [
        {
          "output_type": "stream",
          "text": [
            "seer faart RRA Wea\n",
            "\n",
            "INCOME TAX DEPARTMENT 3 GOVT. OF INDIA\n",
            "D MANIKANDAN ” PG\n",
            "\n",
            "   \n",
            "\n",
            "DURAISAMY\n",
            "16/07/1986,\n",
            "\n",
            "Pernument Aucaunt Number\n",
            "\n",
            "BNZPM2501F\n",
            "\n",
            "Deronda oben\n",
            "\n",
            "Signature\n",
            "seer faart RRA Wea\n",
            "\n",
            "INCOME TAX DEPARTMENT 3 GOVT. OF INDIA\n",
            "D MANIKANDAN ” PG\n",
            "\n",
            "   \n",
            "\n",
            "DURAISAMY\n",
            "16/07/1986,\n",
            "\n",
            "Pernument Aucaunt Number\n",
            "\n",
            "BNZPM2501F\n",
            "\n",
            "Deronda oben\n",
            "\n",
            "Signature\n",
            "['seer faart RRA Wea', 'INCOME TAX DEPARTMENT 3 GOVT. OF INDIA', 'D MANIKANDAN ” PG', 'DURAISAMY', '16/07/1986,', 'Pernument Aucaunt Number', 'BNZPM2501F', 'Deronda oben', 'Signature']\n",
            "['seer faart RRA Wea', 'INCOME TAX DEPARTMENT 3 GOVT. OF INDIA', 'D MANIKANDAN ” PG', 'DURAISAMY', '16/07/1986,', 'Pernument Aucaunt Number', 'BNZPM2501F', 'Deronda oben', 'Signature']\n",
            "['D MANIKANDAN ” PG', 'DURAISAMY', '16/07/1986,', 'Pernument Aucaunt Number', 'BNZPM2501F', 'Deronda oben', 'Signature']\n",
            "{'Name': 'D MANIKANDAN  PG', 'Father Name': 'DURAISAMY', 'Date of Birth': '16/07/1986,', 'PAN': 'BNZPM2501F'}\n",
            "True\n",
            "\t |+++++++++++++++++++++++++++++++|\n",
            "\t | \t D MANIKANDAN  PG\n",
            "\t |-------------------------------|\n",
            "\t | \t DURAISAMY\n",
            "\t |-------------------------------|\n",
            "\t | \t 16/07/1986,\n",
            "\t |-------------------------------|\n",
            "\t | \t BNZPM2501F\n",
            "\t |+++++++++++++++++++++++++++++++|\n"
          ],
          "name": "stdout"
        }
      ]
    },
    {
      "cell_type": "code",
      "metadata": {
        "id": "CPhIXTmNcOYM",
        "colab_type": "code",
        "colab": {}
      },
      "source": [
        ""
      ],
      "execution_count": 0,
      "outputs": []
    }
  ]
}